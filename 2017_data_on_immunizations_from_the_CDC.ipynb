{
  "nbformat": 4,
  "nbformat_minor": 0,
  "metadata": {
    "colab": {
      "name": "2017_data_on_immunizations_from_the_CDC.ipynb",
      "provenance": [],
      "collapsed_sections": [],
      "authorship_tag": "ABX9TyNE5N78AFbTm3EaT2GyJ20M",
      "include_colab_link": true
    },
    "kernelspec": {
      "name": "python3",
      "display_name": "Python 3"
    },
    "language_info": {
      "name": "python"
    }
  },
  "cells": [
    {
      "cell_type": "markdown",
      "metadata": {
        "id": "view-in-github",
        "colab_type": "text"
      },
      "source": [
        "<a href=\"https://colab.research.google.com/github/camilalarrosa/2017-data-on-immunizations-from-the-CDC/blob/main/2017_data_on_immunizations_from_the_CDC.ipynb\" target=\"_parent\"><img src=\"https://colab.research.google.com/assets/colab-badge.svg\" alt=\"Open In Colab\"/></a>"
      ]
    },
    {
      "cell_type": "code",
      "execution_count": 1,
      "metadata": {
        "id": "7HR7TM1ud0Gs"
      },
      "outputs": [],
      "source": [
        "import pandas as pd"
      ]
    },
    {
      "cell_type": "code",
      "source": [
        "data = pd.read_csv('/content/sample_data/NISPUF17.csv')\n",
        "\n",
        "data.head()"
      ],
      "metadata": {
        "colab": {
          "base_uri": "https://localhost:8080/",
          "height": 317
        },
        "id": "0Y_k3BexebUY",
        "outputId": "629eca65-8624-4a6f-8e3b-ea00ed9205c6"
      },
      "execution_count": 3,
      "outputs": [
        {
          "output_type": "execute_result",
          "data": {
            "text/plain": [
              "   Unnamed: 0  SEQNUMC  SEQNUMHH  PDAT    PROVWT_D     RDDWT_D  STRATUM  YEAR  \\\n",
              "0           1   128521     12852     2         NaN  235.916956     1031  2017   \n",
              "1           2    10741      1074     2         NaN  957.353840     1068  2017   \n",
              "2           3   220011     22001     2         NaN  189.611299     1050  2017   \n",
              "3           4    86131      8613     1  675.430817  333.447418     1040  2017   \n",
              "4           5   227141     22714     1  482.617748  278.768063     1008  2017   \n",
              "\n",
              "   AGECPOXR  HAD_CPOX  ...  XVRCTY2  XVRCTY3  XVRCTY4  XVRCTY5  XVRCTY6  \\\n",
              "0       NaN         2  ...                        NaN      NaN      NaN   \n",
              "1       NaN         2  ...                        NaN      NaN      NaN   \n",
              "2       NaN         2  ...                        NaN      NaN      NaN   \n",
              "3       NaN         2  ...                        NaN      NaN      NaN   \n",
              "4       NaN         2  ...                        NaN      NaN      NaN   \n",
              "\n",
              "   XVRCTY7  XVRCTY8  XVRCTY9  INS_STAT2_I  INS_BREAK_I  \n",
              "0      NaN      NaN      NaN          NaN          NaN  \n",
              "1      NaN      NaN      NaN          NaN          NaN  \n",
              "2      NaN      NaN      NaN          NaN          NaN  \n",
              "3      NaN      NaN      NaN          1.0          2.0  \n",
              "4      NaN      NaN      NaN          2.0          1.0  \n",
              "\n",
              "[5 rows x 454 columns]"
            ],
            "text/html": [
              "\n",
              "  <div id=\"df-916de6e8-c511-4177-9437-890f24637502\">\n",
              "    <div class=\"colab-df-container\">\n",
              "      <div>\n",
              "<style scoped>\n",
              "    .dataframe tbody tr th:only-of-type {\n",
              "        vertical-align: middle;\n",
              "    }\n",
              "\n",
              "    .dataframe tbody tr th {\n",
              "        vertical-align: top;\n",
              "    }\n",
              "\n",
              "    .dataframe thead th {\n",
              "        text-align: right;\n",
              "    }\n",
              "</style>\n",
              "<table border=\"1\" class=\"dataframe\">\n",
              "  <thead>\n",
              "    <tr style=\"text-align: right;\">\n",
              "      <th></th>\n",
              "      <th>Unnamed: 0</th>\n",
              "      <th>SEQNUMC</th>\n",
              "      <th>SEQNUMHH</th>\n",
              "      <th>PDAT</th>\n",
              "      <th>PROVWT_D</th>\n",
              "      <th>RDDWT_D</th>\n",
              "      <th>STRATUM</th>\n",
              "      <th>YEAR</th>\n",
              "      <th>AGECPOXR</th>\n",
              "      <th>HAD_CPOX</th>\n",
              "      <th>...</th>\n",
              "      <th>XVRCTY2</th>\n",
              "      <th>XVRCTY3</th>\n",
              "      <th>XVRCTY4</th>\n",
              "      <th>XVRCTY5</th>\n",
              "      <th>XVRCTY6</th>\n",
              "      <th>XVRCTY7</th>\n",
              "      <th>XVRCTY8</th>\n",
              "      <th>XVRCTY9</th>\n",
              "      <th>INS_STAT2_I</th>\n",
              "      <th>INS_BREAK_I</th>\n",
              "    </tr>\n",
              "  </thead>\n",
              "  <tbody>\n",
              "    <tr>\n",
              "      <th>0</th>\n",
              "      <td>1</td>\n",
              "      <td>128521</td>\n",
              "      <td>12852</td>\n",
              "      <td>2</td>\n",
              "      <td>NaN</td>\n",
              "      <td>235.916956</td>\n",
              "      <td>1031</td>\n",
              "      <td>2017</td>\n",
              "      <td>NaN</td>\n",
              "      <td>2</td>\n",
              "      <td>...</td>\n",
              "      <td></td>\n",
              "      <td></td>\n",
              "      <td>NaN</td>\n",
              "      <td>NaN</td>\n",
              "      <td>NaN</td>\n",
              "      <td>NaN</td>\n",
              "      <td>NaN</td>\n",
              "      <td>NaN</td>\n",
              "      <td>NaN</td>\n",
              "      <td>NaN</td>\n",
              "    </tr>\n",
              "    <tr>\n",
              "      <th>1</th>\n",
              "      <td>2</td>\n",
              "      <td>10741</td>\n",
              "      <td>1074</td>\n",
              "      <td>2</td>\n",
              "      <td>NaN</td>\n",
              "      <td>957.353840</td>\n",
              "      <td>1068</td>\n",
              "      <td>2017</td>\n",
              "      <td>NaN</td>\n",
              "      <td>2</td>\n",
              "      <td>...</td>\n",
              "      <td></td>\n",
              "      <td></td>\n",
              "      <td>NaN</td>\n",
              "      <td>NaN</td>\n",
              "      <td>NaN</td>\n",
              "      <td>NaN</td>\n",
              "      <td>NaN</td>\n",
              "      <td>NaN</td>\n",
              "      <td>NaN</td>\n",
              "      <td>NaN</td>\n",
              "    </tr>\n",
              "    <tr>\n",
              "      <th>2</th>\n",
              "      <td>3</td>\n",
              "      <td>220011</td>\n",
              "      <td>22001</td>\n",
              "      <td>2</td>\n",
              "      <td>NaN</td>\n",
              "      <td>189.611299</td>\n",
              "      <td>1050</td>\n",
              "      <td>2017</td>\n",
              "      <td>NaN</td>\n",
              "      <td>2</td>\n",
              "      <td>...</td>\n",
              "      <td></td>\n",
              "      <td></td>\n",
              "      <td>NaN</td>\n",
              "      <td>NaN</td>\n",
              "      <td>NaN</td>\n",
              "      <td>NaN</td>\n",
              "      <td>NaN</td>\n",
              "      <td>NaN</td>\n",
              "      <td>NaN</td>\n",
              "      <td>NaN</td>\n",
              "    </tr>\n",
              "    <tr>\n",
              "      <th>3</th>\n",
              "      <td>4</td>\n",
              "      <td>86131</td>\n",
              "      <td>8613</td>\n",
              "      <td>1</td>\n",
              "      <td>675.430817</td>\n",
              "      <td>333.447418</td>\n",
              "      <td>1040</td>\n",
              "      <td>2017</td>\n",
              "      <td>NaN</td>\n",
              "      <td>2</td>\n",
              "      <td>...</td>\n",
              "      <td></td>\n",
              "      <td></td>\n",
              "      <td>NaN</td>\n",
              "      <td>NaN</td>\n",
              "      <td>NaN</td>\n",
              "      <td>NaN</td>\n",
              "      <td>NaN</td>\n",
              "      <td>NaN</td>\n",
              "      <td>1.0</td>\n",
              "      <td>2.0</td>\n",
              "    </tr>\n",
              "    <tr>\n",
              "      <th>4</th>\n",
              "      <td>5</td>\n",
              "      <td>227141</td>\n",
              "      <td>22714</td>\n",
              "      <td>1</td>\n",
              "      <td>482.617748</td>\n",
              "      <td>278.768063</td>\n",
              "      <td>1008</td>\n",
              "      <td>2017</td>\n",
              "      <td>NaN</td>\n",
              "      <td>2</td>\n",
              "      <td>...</td>\n",
              "      <td></td>\n",
              "      <td></td>\n",
              "      <td>NaN</td>\n",
              "      <td>NaN</td>\n",
              "      <td>NaN</td>\n",
              "      <td>NaN</td>\n",
              "      <td>NaN</td>\n",
              "      <td>NaN</td>\n",
              "      <td>2.0</td>\n",
              "      <td>1.0</td>\n",
              "    </tr>\n",
              "  </tbody>\n",
              "</table>\n",
              "<p>5 rows × 454 columns</p>\n",
              "</div>\n",
              "      <button class=\"colab-df-convert\" onclick=\"convertToInteractive('df-916de6e8-c511-4177-9437-890f24637502')\"\n",
              "              title=\"Convert this dataframe to an interactive table.\"\n",
              "              style=\"display:none;\">\n",
              "        \n",
              "  <svg xmlns=\"http://www.w3.org/2000/svg\" height=\"24px\"viewBox=\"0 0 24 24\"\n",
              "       width=\"24px\">\n",
              "    <path d=\"M0 0h24v24H0V0z\" fill=\"none\"/>\n",
              "    <path d=\"M18.56 5.44l.94 2.06.94-2.06 2.06-.94-2.06-.94-.94-2.06-.94 2.06-2.06.94zm-11 1L8.5 8.5l.94-2.06 2.06-.94-2.06-.94L8.5 2.5l-.94 2.06-2.06.94zm10 10l.94 2.06.94-2.06 2.06-.94-2.06-.94-.94-2.06-.94 2.06-2.06.94z\"/><path d=\"M17.41 7.96l-1.37-1.37c-.4-.4-.92-.59-1.43-.59-.52 0-1.04.2-1.43.59L10.3 9.45l-7.72 7.72c-.78.78-.78 2.05 0 2.83L4 21.41c.39.39.9.59 1.41.59.51 0 1.02-.2 1.41-.59l7.78-7.78 2.81-2.81c.8-.78.8-2.07 0-2.86zM5.41 20L4 18.59l7.72-7.72 1.47 1.35L5.41 20z\"/>\n",
              "  </svg>\n",
              "      </button>\n",
              "      \n",
              "  <style>\n",
              "    .colab-df-container {\n",
              "      display:flex;\n",
              "      flex-wrap:wrap;\n",
              "      gap: 12px;\n",
              "    }\n",
              "\n",
              "    .colab-df-convert {\n",
              "      background-color: #E8F0FE;\n",
              "      border: none;\n",
              "      border-radius: 50%;\n",
              "      cursor: pointer;\n",
              "      display: none;\n",
              "      fill: #1967D2;\n",
              "      height: 32px;\n",
              "      padding: 0 0 0 0;\n",
              "      width: 32px;\n",
              "    }\n",
              "\n",
              "    .colab-df-convert:hover {\n",
              "      background-color: #E2EBFA;\n",
              "      box-shadow: 0px 1px 2px rgba(60, 64, 67, 0.3), 0px 1px 3px 1px rgba(60, 64, 67, 0.15);\n",
              "      fill: #174EA6;\n",
              "    }\n",
              "\n",
              "    [theme=dark] .colab-df-convert {\n",
              "      background-color: #3B4455;\n",
              "      fill: #D2E3FC;\n",
              "    }\n",
              "\n",
              "    [theme=dark] .colab-df-convert:hover {\n",
              "      background-color: #434B5C;\n",
              "      box-shadow: 0px 1px 3px 1px rgba(0, 0, 0, 0.15);\n",
              "      filter: drop-shadow(0px 1px 2px rgba(0, 0, 0, 0.3));\n",
              "      fill: #FFFFFF;\n",
              "    }\n",
              "  </style>\n",
              "\n",
              "      <script>\n",
              "        const buttonEl =\n",
              "          document.querySelector('#df-916de6e8-c511-4177-9437-890f24637502 button.colab-df-convert');\n",
              "        buttonEl.style.display =\n",
              "          google.colab.kernel.accessAllowed ? 'block' : 'none';\n",
              "\n",
              "        async function convertToInteractive(key) {\n",
              "          const element = document.querySelector('#df-916de6e8-c511-4177-9437-890f24637502');\n",
              "          const dataTable =\n",
              "            await google.colab.kernel.invokeFunction('convertToInteractive',\n",
              "                                                     [key], {});\n",
              "          if (!dataTable) return;\n",
              "\n",
              "          const docLinkHtml = 'Like what you see? Visit the ' +\n",
              "            '<a target=\"_blank\" href=https://colab.research.google.com/notebooks/data_table.ipynb>data table notebook</a>'\n",
              "            + ' to learn more about interactive tables.';\n",
              "          element.innerHTML = '';\n",
              "          dataTable['output_type'] = 'display_data';\n",
              "          await google.colab.output.renderOutput(dataTable, element);\n",
              "          const docLink = document.createElement('div');\n",
              "          docLink.innerHTML = docLinkHtml;\n",
              "          element.appendChild(docLink);\n",
              "        }\n",
              "      </script>\n",
              "    </div>\n",
              "  </div>\n",
              "  "
            ]
          },
          "metadata": {},
          "execution_count": 3
        }
      ]
    },
    {
      "cell_type": "code",
      "source": [
        "data.columns"
      ],
      "metadata": {
        "colab": {
          "base_uri": "https://localhost:8080/"
        },
        "id": "9cyRtB_JenFi",
        "outputId": "dbf5ea43-0aea-4d88-c9d3-3a395de97d54"
      },
      "execution_count": 4,
      "outputs": [
        {
          "output_type": "execute_result",
          "data": {
            "text/plain": [
              "Index(['Unnamed: 0', 'SEQNUMC', 'SEQNUMHH', 'PDAT', 'PROVWT_D', 'RDDWT_D',\n",
              "       'STRATUM', 'YEAR', 'AGECPOXR', 'HAD_CPOX',\n",
              "       ...\n",
              "       'XVRCTY2', 'XVRCTY3', 'XVRCTY4', 'XVRCTY5', 'XVRCTY6', 'XVRCTY7',\n",
              "       'XVRCTY8', 'XVRCTY9', 'INS_STAT2_I', 'INS_BREAK_I'],\n",
              "      dtype='object', length=454)"
            ]
          },
          "metadata": {},
          "execution_count": 4
        }
      ]
    },
    {
      "cell_type": "markdown",
      "source": [
        "## Question 1\n",
        "Write a function called `proportion_of_education` which returns the proportion of children in the dataset who had a mother with the education levels equal to less than high school (<12), high school (12), more than high school but not a college graduate (>12) and college degree.\n",
        "\n",
        "*This function should return a dictionary in the form of (use the correct numbers, do not round numbers):* \n",
        "```\n",
        "    {\"less than high school\":0.2,\n",
        "    \"high school\":0.4,\n",
        "    \"more than high school but not college\":0.2,\n",
        "    \"college\":0.2}"
      ],
      "metadata": {
        "id": "f-up1-g9zmKZ"
      }
    },
    {
      "cell_type": "code",
      "source": [
        "import pandas as pd\n",
        "import numpy as np\n",
        "\n",
        "def proportion_of_education():\n",
        "    \n",
        "    df = pd.read_csv(\"/content/sample_data/NISPUF17.csv\", index_col = 0)\n",
        "    \n",
        "    EDUS = df['EDUC1']\n",
        "    edus = np.sort(EDUS.values)\n",
        "    \n",
        "    poe = {\"less than high school\": 0,\n",
        "        \"high school\": 0,\n",
        "        \"more than high school but not college\": 0,\n",
        "        \"college\": 0}\n",
        "    n = len(edus)\n",
        "    \n",
        "    poe[\"less than high school\"] = np.sum(edus == 1)/n\n",
        "    poe[\"high school\"] = np.sum(edus == 2)/n\n",
        "    poe[\"more than high school but not college\"] = np.sum(edus == 3)/n\n",
        "    poe[\"college\"] = np.sum(edus == 4)/n\n",
        "    \n",
        "    return poe\n",
        "    raise NotImplementedError()"
      ],
      "metadata": {
        "id": "lWdov03CekHg"
      },
      "execution_count": 6,
      "outputs": []
    },
    {
      "cell_type": "code",
      "source": [
        " type(proportion_of_education())==type({})"
      ],
      "metadata": {
        "colab": {
          "base_uri": "https://localhost:8080/"
        },
        "id": "p3984tMBuoas",
        "outputId": "02bc186a-b8d1-4d76-f2a2-3efb75af797b"
      },
      "execution_count": 7,
      "outputs": [
        {
          "output_type": "execute_result",
          "data": {
            "text/plain": [
              "True"
            ]
          },
          "metadata": {},
          "execution_count": 7
        }
      ]
    },
    {
      "cell_type": "code",
      "source": [
        "len(proportion_of_education()) == 4"
      ],
      "metadata": {
        "colab": {
          "base_uri": "https://localhost:8080/"
        },
        "id": "CYqdAyLFvFUs",
        "outputId": "70d1311d-ebf3-4380-db81-8b3587d19d4f"
      },
      "execution_count": 8,
      "outputs": [
        {
          "output_type": "execute_result",
          "data": {
            "text/plain": [
              "True"
            ]
          },
          "metadata": {},
          "execution_count": 8
        }
      ]
    },
    {
      "cell_type": "code",
      "source": [
        "\"less than high school\" in proportion_of_education().keys()"
      ],
      "metadata": {
        "colab": {
          "base_uri": "https://localhost:8080/"
        },
        "id": "SMKsyO1avKTS",
        "outputId": "bdcaf7b2-c7c6-43b4-9e47-a2b1bed245e9"
      },
      "execution_count": 9,
      "outputs": [
        {
          "output_type": "execute_result",
          "data": {
            "text/plain": [
              "True"
            ]
          },
          "metadata": {},
          "execution_count": 9
        }
      ]
    },
    {
      "cell_type": "code",
      "source": [
        "\"high school\" in proportion_of_education().keys()"
      ],
      "metadata": {
        "colab": {
          "base_uri": "https://localhost:8080/"
        },
        "id": "vRYs2nTIvSSE",
        "outputId": "6fb421f5-0af8-40a6-ed74-7345dbbdea11"
      },
      "execution_count": 10,
      "outputs": [
        {
          "output_type": "execute_result",
          "data": {
            "text/plain": [
              "True"
            ]
          },
          "metadata": {},
          "execution_count": 10
        }
      ]
    },
    {
      "cell_type": "code",
      "source": [
        "\"more than high school but not college\" in proportion_of_education().keys()"
      ],
      "metadata": {
        "colab": {
          "base_uri": "https://localhost:8080/"
        },
        "id": "Vp0-22PzvVr9",
        "outputId": "c505337d-1def-4374-b20c-edabcf06e2b0"
      },
      "execution_count": 15,
      "outputs": [
        {
          "output_type": "execute_result",
          "data": {
            "text/plain": [
              "True"
            ]
          },
          "metadata": {},
          "execution_count": 15
        }
      ]
    },
    {
      "cell_type": "code",
      "source": [
        "\"college\" in proportion_of_education().keys()"
      ],
      "metadata": {
        "colab": {
          "base_uri": "https://localhost:8080/"
        },
        "id": "XTtU3NgrvYfd",
        "outputId": "f06599e0-59c7-4602-8a6f-98e9eb381186"
      },
      "execution_count": 13,
      "outputs": [
        {
          "output_type": "execute_result",
          "data": {
            "text/plain": [
              "True"
            ]
          },
          "metadata": {},
          "execution_count": 13
        }
      ]
    },
    {
      "cell_type": "markdown",
      "source": [
        "## Question 2\n",
        "\n",
        "Let's explore the relationship between being fed breastmilk as a child and getting a seasonal influenza vaccine from a healthcare provider. Return a tuple of the average number of influenza vaccines for those children we know received breastmilk as a child and those who know did not.\n",
        "\n",
        "*This function should return a tuple in the form (use the correct numbers:*\n",
        "```\n",
        "(2.5, 0.1)\n",
        "```"
      ],
      "metadata": {
        "id": "J1c92XhAzqV7"
      }
    },
    {
      "cell_type": "code",
      "source": [
        "import pandas as pd\n",
        "\n",
        "def average_influenza_doses():\n",
        "\n",
        "    df = pd.read_csv('/content/sample_data/NISPUF17.csv')\n",
        "    \n",
        "    df1 = df[df[\"CBF_01\"] == 1]\n",
        "    df2 = df[df[\"CBF_01\"] == 2]\n",
        "    \n",
        "    return (df1[\"P_NUMFLU\"].mean(), df2[\"P_NUMFLU\"].mean())\n",
        "\n",
        "    raise NotImplementedError()"
      ],
      "metadata": {
        "id": "pW7jmfECvdI_"
      },
      "execution_count": 25,
      "outputs": []
    },
    {
      "cell_type": "code",
      "source": [
        "assert len(average_influenza_doses())==2, \"Return two values in a tuple, the first for yes and the second for no.\""
      ],
      "metadata": {
        "id": "TNsBMdlfy_6y"
      },
      "execution_count": null,
      "outputs": []
    },
    {
      "cell_type": "code",
      "source": [
        "len(average_influenza_doses())==2"
      ],
      "metadata": {
        "colab": {
          "base_uri": "https://localhost:8080/"
        },
        "id": "Lm831cApzAeB",
        "outputId": "8bc40c80-00e3-4ee0-ef35-d13c7b5079e6"
      },
      "execution_count": 26,
      "outputs": [
        {
          "output_type": "execute_result",
          "data": {
            "text/plain": [
              "True"
            ]
          },
          "metadata": {},
          "execution_count": 26
        }
      ]
    },
    {
      "cell_type": "markdown",
      "source": [
        "## Question 3\n",
        "It would be interesting to see if there is any evidence of a link between vaccine effectiveness and sex of the child. Calculate the ratio of the number of children who contracted chickenpox but were vaccinated against it (at least one varicella dose) versus those who were vaccinated but did not contract chicken pox. Return results by sex. \n",
        "\n",
        "*This function should return a dictionary in the form of (use the correct numbers):* \n",
        "```\n",
        "    {\"male\":0.2,\n",
        "    \"female\":0.4}\n",
        "```\n",
        "\n",
        "Note: To aid in verification, the `chickenpox_by_sex()['female']` value the autograder is looking for starts with the digits `0.0077`."
      ],
      "metadata": {
        "id": "icGqJIfXz1Nq"
      }
    },
    {
      "cell_type": "code",
      "source": [
        "import pandas as pd\n",
        "def chickenpox_by_sex():   \n",
        "    \n",
        "    df = pd.read_csv('/content/sample_data/NISPUF17.csv', index_col=0)\n",
        "    \n",
        "    df = df[[\"SEX\", \"HAD_CPOX\", \"P_NUMVRC\"]].dropna()\n",
        "    df = df[df[\"P_NUMVRC\"] > 0]\n",
        "    \n",
        "    male_df = df[df[\"SEX\"] == 1]\n",
        "    female_df = df[df[\"SEX\"] == 2]\n",
        "    \n",
        "    female_chickenpox = female_df[(female_df[\"HAD_CPOX\"] == 1) & (female_df[\"P_NUMVRC\"] >= 1)]\n",
        "    female_non_chickenpox = female_df[(female_df[\"HAD_CPOX\"] == 2) & (female_df[\"P_NUMVRC\"] >= 1)]\n",
        "    \n",
        "    male_ratio = len(male_df[male_df[\"HAD_CPOX\"] == 1])/len(male_df[male_df[\"HAD_CPOX\"] == 2])\n",
        "    female_ratio = len(female_df[female_df[\"HAD_CPOX\"] == 1])/len(female_df[female_df[\"HAD_CPOX\"] == 2])\n",
        "    \n",
        "    return {\"male\": male_ratio, \"female\": female_ratio}\n",
        "    raise NotImplementedError()"
      ],
      "metadata": {
        "id": "tV6qr3qOw6d8"
      },
      "execution_count": 23,
      "outputs": []
    },
    {
      "cell_type": "code",
      "source": [
        "assert len(chickenpox_by_sex())==2, \"Return a dictionary with two items, the first for males and the second for females.\""
      ],
      "metadata": {
        "id": "9-6WLasRyjvj"
      },
      "execution_count": null,
      "outputs": []
    },
    {
      "cell_type": "code",
      "source": [
        "len(chickenpox_by_sex())==2"
      ],
      "metadata": {
        "colab": {
          "base_uri": "https://localhost:8080/"
        },
        "id": "yA6xOnPXykLm",
        "outputId": "3334c345-bfbc-4b95-a5f2-2cc062d92e73"
      },
      "execution_count": 24,
      "outputs": [
        {
          "output_type": "execute_result",
          "data": {
            "text/plain": [
              "True"
            ]
          },
          "metadata": {},
          "execution_count": 24
        }
      ]
    },
    {
      "cell_type": "markdown",
      "source": [
        "## Question 4\n",
        "A correlation is a statistical relationship between two variables. If we wanted to know if vaccines work, we might look at the correlation between the use of the vaccine and whether it results in prevention of the infection or disease [1]. In this question, you are to see if there is a correlation between having had the chicken pox and the number of chickenpox vaccine doses given (varicella).\n",
        "\n",
        "Some notes on interpreting the answer. The `had_chickenpox_column` is either `1` (for yes) or `2` (for no), and the `num_chickenpox_vaccine_column` is the number of doses a child has been given of the varicella vaccine. A positive correlation (e.g., `corr > 0`) means that an increase in `had_chickenpox_column` (which means more no’s) would also increase the values of `num_chickenpox_vaccine_column` (which means more doses of vaccine). If there is a negative correlation (e.g., `corr < 0`), it indicates that having had chickenpox is related to an increase in the number of vaccine doses.\n",
        "\n",
        "Also, `pval` is the probability that we observe a correlation between `had_chickenpox_column` and `num_chickenpox_vaccine_column` which is greater than or equal to a particular value occurred by chance. A small `pval` means that the observed correlation is highly unlikely to occur by chance. In this case, `pval` should be very small (will end in `e-18` indicating a very small number).\n",
        "\n",
        "[1] This isn’t really the full picture, since we are not looking at when the dose was given. It’s possible that children had chickenpox and then their parents went to get them the vaccine. Does this dataset have the data we would need to investigate the timing of the dose?"
      ],
      "metadata": {
        "id": "DvE0nPJpz9Nj"
      }
    },
    {
      "cell_type": "code",
      "source": [
        "import scipy.stats as stats\n",
        "import numpy as np\n",
        "import pandas as pd\n",
        "\n",
        "def corr_chickenpox():\n",
        "        \n",
        "    # this is just an example dataframe\n",
        "    # df=pd.DataFrame({\"had_chickenpox_column\":np.random.randint(1,3,size=(100)),\n",
        "    #             \"num_chickenpox_vaccine_column\":np.random.randint(0,6,size=(100))})\n",
        "    df = pd.read_csv('/content/sample_data/NISPUF17.csv', index_col=0)\n",
        "\n",
        "    df=df[df['HAD_CPOX'].lt(3)].loc[:,['HAD_CPOX','P_NUMVRC']].dropna()\n",
        "    df.columns=['had_chickenpox_column','num_chickenpox_vaccine_column']\n",
        "    # here is some stub code to actually run the correlation\n",
        "    corr, pval=stats.pearsonr(df[\"had_chickenpox_column\"],df[\"num_chickenpox_vaccine_column\"])\n",
        "    \n",
        "    # just return the correlation\n",
        "    return corr\n",
        "\n",
        "    raise NotImplementedError()"
      ],
      "metadata": {
        "id": "4VeV1T_5xaYT"
      },
      "execution_count": 18,
      "outputs": []
    },
    {
      "cell_type": "code",
      "source": [
        "assert -1<=corr_chickenpox()<=1, \"You must return a float number between -1.0 and 1.0.\""
      ],
      "metadata": {
        "id": "NDL1OUOyyYDL"
      },
      "execution_count": null,
      "outputs": []
    },
    {
      "cell_type": "code",
      "source": [
        "-1<=corr_chickenpox()<=1"
      ],
      "metadata": {
        "colab": {
          "base_uri": "https://localhost:8080/"
        },
        "id": "Kho_9zUkyc4V",
        "outputId": "629fe579-bc36-49ee-b62b-da895f38fb9e"
      },
      "execution_count": 19,
      "outputs": [
        {
          "output_type": "execute_result",
          "data": {
            "text/plain": [
              "True"
            ]
          },
          "metadata": {},
          "execution_count": 19
        }
      ]
    }
  ]
}